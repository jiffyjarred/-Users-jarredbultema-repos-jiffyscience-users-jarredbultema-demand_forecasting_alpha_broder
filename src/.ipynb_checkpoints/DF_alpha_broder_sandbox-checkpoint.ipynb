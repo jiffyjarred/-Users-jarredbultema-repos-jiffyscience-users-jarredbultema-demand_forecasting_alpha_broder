{
 "cells": [
  {
   "cell_type": "markdown",
   "id": "eae537e6-47fd-48a8-8e4c-d1761c479efa",
   "metadata": {},
   "source": [
    "# Alpha Broder Demand Forecasting\n",
    "May 10, 2021\n",
    "\n",
    "### Goal:\n",
    "- Generate 12-month forecasts for demand of variant-region or variant-category-region for products that we sell from Alpha Broder\n",
    "- Weekly or daily granularity has benefits over monthly\n",
    "- We will post-process total demand to allocate AB sales target. We don't want to include existing allocation logic or splits data to understand only historical demand fulfill by AB. Rather, we want total demand of the styles they sell\n",
    "- A business goal is to partner more directly with AB, provide granular forecasts that allow for generation of JS sales targets as part of an incentive/discount program\n",
    "- We will plan to scale out this type of work to our other suppliers as well, and all items we sell\n"
   ]
  },
  {
   "cell_type": "markdown",
   "id": "6b4755a6-fbdd-41b7-9ac6-5af1a8be9d9e",
   "metadata": {},
   "source": [
    "### Plan of Attack:\n",
    "1. Get the data\n",
    "2. Basic EDA (use TS helpers)\n",
    "3. Cluster series (us TS helpers and/or hierarchical clustering from roll_package)\n",
    "4. Use DR to do quick segmented modeling (basic parameters)\n",
    "5. Evaluate performance\n",
    "6. Look at insights to determine where we might want additional data types or feature engineering\n",
    "\n",
    "### Other comments:\n",
    "1. Functionalize this work so it's easily repeatable and/or rolled into a package later\n",
    "2. Use the JiffyPy package for relevant functionality\n",
    "2. Quick turnaround needed (5/14) for initial results that are good enough to send to supplier\n",
    "3. Focus on DR-replacement for this workflow if possible\n",
    "4. Don't worry too much about cold-starts, but be on the lookout for that stuff in the data"
   ]
  },
  {
   "cell_type": "code",
   "execution_count": 2,
   "id": "718961c5-2717-472a-871c-0ee26843596b",
   "metadata": {
    "tags": []
   },
   "outputs": [],
   "source": [
    "# import packages\n",
    "import datarobot as dr\n",
    "import datarobot_ts_helpers as ts\n",
    "import pandas as pd\n",
    "import numpy as np\n",
    "import matplotlib.pyplot as plt\n",
    "import seaborn as sns\n",
    "import warnings\n",
    "\n",
    "warnings.filterwarnings(\"ignore\")\n",
    "\n",
    "# set pandas configuration to show all columns\n",
    "pd.set_option('display.max_columns', None)"
   ]
  },
  {
   "cell_type": "code",
   "execution_count": 5,
   "id": "6e06132c-ef80-46a3-bb25-0065a9b4b5ed",
   "metadata": {},
   "outputs": [
    {
     "data": {
      "text/plain": [
       "<datarobot.rest.RESTClientObject at 0x7f8427b71700>"
      ]
     },
     "execution_count": 5,
     "metadata": {},
     "output_type": "execute_result"
    }
   ],
   "source": [
    "# configure connection to DataRobot\n",
    "# endpoint and API-token are stored in a config file\n",
    "# US-server\n",
    "dr.Client(config_path='/Users/jarredbultema/.config/datarobot/drconfig_eu.yaml', connect_timeout= 50000)"
   ]
  },
  {
   "cell_type": "code",
   "execution_count": null,
   "id": "2ccad2c5-25e7-4064-b966-effea314f8fd",
   "metadata": {},
   "outputs": [],
   "source": []
  }
 ],
 "metadata": {
  "kernelspec": {
   "display_name": "Python 3",
   "language": "python",
   "name": "python3"
  },
  "language_info": {
   "codemirror_mode": {
    "name": "ipython",
    "version": 3
   },
   "file_extension": ".py",
   "mimetype": "text/x-python",
   "name": "python",
   "nbconvert_exporter": "python",
   "pygments_lexer": "ipython3",
   "version": "3.8.5"
  }
 },
 "nbformat": 4,
 "nbformat_minor": 5
}
